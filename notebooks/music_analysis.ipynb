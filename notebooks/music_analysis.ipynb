{
 "cells": [
  {
   "cell_type": "markdown",
   "id": "3d9ac18a",
   "metadata": {},
   "source": [
    "# What's in that Dijon?\n",
    "\n",
    "Kind of like how certain capitular giants of the stock market can signify a coming shift in the market, household name musician's latest \"vibe\" dictates the shape of an era's musical landscape. \n",
    "\n",
    "Hypothesis -> Increased use of dissonance over time to escape from reality (humans are finding better and better ways to avoid living in the now). Emotions are delivered with great intention."
   ]
  },
  {
   "cell_type": "markdown",
   "id": "41ae91e6",
   "metadata": {},
   "source": [
    "Dijon has nice music. Bieber's music now mimics Dijon.\n",
    "What's in Dijon's music that was able to trigger such a shift?"
   ]
  },
  {
   "cell_type": "markdown",
   "id": "95e46d46",
   "metadata": {},
   "source": [
    "Content to include:\n",
    "- How you collected and cleaned the data? (Spotify)\n",
    "- Audio + lyric feature extraction\n",
    "- Genre comparison logic (PCA, clustering)\n",
    "- Cultural analysis framework and historical references"
   ]
  },
  {
   "cell_type": "markdown",
   "id": "9fc1847f",
   "metadata": {},
   "source": [
    "## Data Gathering"
   ]
  },
  {
   "cell_type": "markdown",
   "id": "0d4e7b3e",
   "metadata": {},
   "source": [
    "### Spotify API Connection\n",
    "\n",
    "Spotify Developer Credentials\n",
    "1. https://developer.spotify.com/dashboard\n",
    "2. Create an App\n",
    "3. Grab\n",
    "   1. Client ID\n",
    "   2. Client Secret"
   ]
  },
  {
   "cell_type": "code",
   "execution_count": null,
   "id": "87dbc283",
   "metadata": {},
   "outputs": [],
   "source": [
    "# Authentication with Spotify API\n",
    "\n",
    "import spotipy\n",
    "from spotipy.oauth2 import SpotifyClientCredentials\n",
    "\n",
    "# Set up credentials\n",
    "client_id = 'your_client_id_here'\n",
    "client_secret = 'your_client_secret_here'\n",
    "\n",
    "# Authenticate\n",
    "auth_manager = SpotifyClientCredentials(client_id=client_id, client_secret=client_secret)\n",
    "sp = spotipy.Spotify(auth_manager=auth_manager)"
   ]
  },
  {
   "cell_type": "code",
   "execution_count": null,
   "id": "2c8fdebe",
   "metadata": {},
   "outputs": [],
   "source": [
    "        "
   ]
  }
 ],
 "metadata": {
  "kernelspec": {
   "display_name": "Python 3",
   "language": "python",
   "name": "python3"
  },
  "language_info": {
   "codemirror_mode": {
    "name": "ipython",
    "version": 3
   },
   "file_extension": ".py",
   "mimetype": "text/x-python",
   "name": "python",
   "nbconvert_exporter": "python",
   "pygments_lexer": "ipython3",
   "version": "3.11.0"
  }
 },
 "nbformat": 4,
 "nbformat_minor": 5
}
